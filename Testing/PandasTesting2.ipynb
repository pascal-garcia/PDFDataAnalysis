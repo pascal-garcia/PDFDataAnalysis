{
 "cells": [
  {
   "cell_type": "code",
   "execution_count": null,
   "metadata": {},
   "outputs": [],
   "source": [
    "import pandas as pd\n",
    "import PathStorage\n",
    "import DateConversion"
   ]
  },
  {
   "cell_type": "code",
   "execution_count": null,
   "metadata": {},
   "outputs": [],
   "source": [
    "doc_data = pd.read_csv(PathStorage.docdata_sheet, index_col=0)\n",
    "\n",
    "dropped = doc_data.drop(doc_data[doc_data[\"Backpage\"] == 1].index)\n",
    "dropped[\"Date\"] = dropped[\"Date\"].map(DateConversion.reformat_date)\n",
    "print(dropped.loc[dropped[\"Date\"] == \"20221116\"].shape[0])\n",
    "doc_data[\"Date\"] = dropped[\"Date\"]\n",
    "\n",
    "doc_data.head(30)\n"
   ]
  },
  {
   "cell_type": "code",
   "execution_count": null,
   "metadata": {},
   "outputs": [],
   "source": [
    "form_mask = (dropped[\"Action\"] == 4) | (dropped[\"Action\"] == 3)\n",
    "dropped = dropped.drop(dropped[form_mask].index)\n",
    "\n",
    "dropped = dropped.sort_values(\"Date\").drop_duplicates(['DCR'])\n",
    "\n",
    "doc_data.loc[dropped.index, \"Action\"] = 1\n",
    "doc_data.tail(25)\n"
   ]
  }
 ],
 "metadata": {
  "kernelspec": {
   "display_name": "Python 3",
   "language": "python",
   "name": "python3"
  },
  "language_info": {
   "codemirror_mode": {
    "name": "ipython",
    "version": 3
   },
   "file_extension": ".py",
   "mimetype": "text/x-python",
   "name": "python",
   "nbconvert_exporter": "python",
   "pygments_lexer": "ipython3",
   "version": "3.12.4"
  }
 },
 "nbformat": 4,
 "nbformat_minor": 2
}
