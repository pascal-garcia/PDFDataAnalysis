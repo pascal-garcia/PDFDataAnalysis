{
 "cells": [
  {
   "cell_type": "markdown",
   "metadata": {},
   "source": []
  },
  {
   "cell_type": "code",
   "execution_count": null,
   "metadata": {},
   "outputs": [],
   "source": [
    "import pandas as pd\n",
    "import PathStorage"
   ]
  },
  {
   "cell_type": "code",
   "execution_count": null,
   "metadata": {},
   "outputs": [],
   "source": [
    "doc_data = pd.read_csv(PathStorage.docdata_sheet, index_col=0)\n",
    "doc_data = doc_data.astype({\"Date\" : \"object\"})\n",
    "temp = doc_data.fillna(\"\")\n",
    "\n",
    "use_date = True\n",
    "use_two = False\n",
    "use_action = True\n",
    "use_detection = False\n",
    "\n",
    "date_val = False\n",
    "two_val = 0\n",
    "action_val = 0\n",
    "detection_val = 0\n",
    "\n",
    "#mask = ((date_val ^ (temp[\"Date\"] == \"\")) | (not use_date)) & ((temp[\"Backpage\"] == two_val) | (not use_two)) & ((temp[\"Action\"] == action_val) | (not use_action)) & ((temp[\"Detection\"] == detection_val) | (not use_detection))\n",
    "mask = doc_data.index % 2 == 0\n",
    "newFrame = pd.DataFrame(doc_data.index[mask])\n",
    "newFrame"
   ]
  }
 ],
 "metadata": {
  "kernelspec": {
   "display_name": "Python 3",
   "language": "python",
   "name": "python3"
  },
  "language_info": {
   "codemirror_mode": {
    "name": "ipython",
    "version": 3
   },
   "file_extension": ".py",
   "mimetype": "text/x-python",
   "name": "python",
   "nbconvert_exporter": "python",
   "pygments_lexer": "ipython3",
   "version": "3.12.5"
  }
 },
 "nbformat": 4,
 "nbformat_minor": 2
}
