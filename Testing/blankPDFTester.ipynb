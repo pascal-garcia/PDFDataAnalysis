{
 "cells": [
  {
   "cell_type": "code",
   "execution_count": null,
   "metadata": {},
   "outputs": [],
   "source": [
    "import cv2\n",
    "import pdfHelper\n",
    "import PIL\n",
    "import numpy\n",
    "\n",
    "def image_aggregates2(image_path):\n",
    "    with PIL.Image.open(image_path) as image:\n",
    "        I = numpy.array(image)\n",
    "        I = I[int(I.shape[0] * .1): int(I.shape[0] * .65),:,:]\n",
    "        I[I > 200] = 255\n",
    "        I[I < 200] = 0\n",
    "        I = 255 - I\n",
    "        return I.nonzero()\n",
    "pdfHelper.pdfpage_to_image(r\"Pictures\\SimplexAg.pdf\", r\"Pictures\\aggregateTest.PNG\", 0)\n",
    "\n",
    "g = image_aggregates2(r\"Pictures\\aggregateTest.PNG\")\n",
    "\n",
    "print(\"This: \" + str(g))\n"
   ]
  }
 ],
 "metadata": {
  "kernelspec": {
   "display_name": "Python 3",
   "language": "python",
   "name": "python3"
  },
  "language_info": {
   "codemirror_mode": {
    "name": "ipython",
    "version": 3
   },
   "file_extension": ".py",
   "mimetype": "text/x-python",
   "name": "python",
   "nbconvert_exporter": "python",
   "pygments_lexer": "ipython3",
   "version": "3.12.3"
  }
 },
 "nbformat": 4,
 "nbformat_minor": 2
}
