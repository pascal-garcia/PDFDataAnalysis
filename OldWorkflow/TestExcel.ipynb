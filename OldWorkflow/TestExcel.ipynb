{
 "cells": [
  {
   "cell_type": "code",
   "execution_count": null,
   "metadata": {},
   "outputs": [],
   "source": [
    "import pandas as pd\n",
    "import os\n",
    "import shutil\n",
    "import re\n",
    "import datetime"
   ]
  },
  {
   "cell_type": "code",
   "execution_count": null,
   "metadata": {},
   "outputs": [],
   "source": [
    "df = pd.read_csv('ConversionComma.csv')\n",
    "df[[\"RN100550326\"]]"
   ]
  },
  {
   "cell_type": "code",
   "execution_count": null,
   "metadata": {},
   "outputs": [],
   "source": [
    "os.mkdir(r\"Downloads\\TestScript\\created\")"
   ]
  },
  {
   "cell_type": "code",
   "execution_count": null,
   "metadata": {},
   "outputs": [],
   "source": [
    "cleaner_spreadsheet_path = r\"Documents\\Workflow\\Conversion.xlsx\"\n",
    "cleaner_data = pd.read_excel(cleaner_spreadsheet_path)\n",
    "cleaner_data.dropna(inplace=True)\n",
    "cleaner_data"
   ]
  },
  {
   "cell_type": "code",
   "execution_count": null,
   "metadata": {},
   "outputs": [],
   "source": [
    "file_names = []\n",
    "\n",
    "for index, row in cleaner_data.iterrows():\n",
    "    ending = \"DS\" if row[\"TYPE\"] == \"DROP STATION REGISTRATION\" else \"Fac\"\n",
    "    file_names.append(f\"{index}-DCR_{row[\"CUTID\"]}_{ending}\")\n",
    "file_names"
   ]
  },
  {
   "cell_type": "code",
   "execution_count": null,
   "metadata": {},
   "outputs": [],
   "source": [
    "shutil.copy2(r\"Documents\\Workflow\\data_template.xlsx\", r\"Documents\\Workflow\\copy.xlsx\")"
   ]
  },
  {
   "cell_type": "code",
   "execution_count": null,
   "metadata": {},
   "outputs": [],
   "source": [
    "subfolder_path = pd.read_csv(r'Documents\\Workflow\\ori_subfolder_storage.csv', index_col=0)\n",
    "subfolder_path.iloc[0].iloc[0]"
   ]
  },
  {
   "cell_type": "code",
   "execution_count": null,
   "metadata": {},
   "outputs": [],
   "source": [
    "my_list = ['a', 'b', 'c']\n",
    "my_series = pd.Series(my_list)\n",
    "my_series.to_csv(\"test_series.csv\")\n",
    "my_series = pd.read_csv(\"test_series.csv\")\n",
    "my_series"
   ]
  },
  {
   "cell_type": "code",
   "execution_count": null,
   "metadata": {},
   "outputs": [],
   "source": [
    "document_data_path = r'Documents\\Workflow\\document_data.xlsx'\n",
    "document_data = pd.read_excel(document_data_path)\n",
    "document_data[\"TYPE\"] = document_data[\"TYPE\"].fillna(0)\n",
    "document_data[\"SUS\"] = document_data[\"SUS\"].fillna(\"F\")\n",
    "\n",
    "document_data"
   ]
  },
  {
   "cell_type": "code",
   "execution_count": null,
   "metadata": {},
   "outputs": [],
   "source": [
    "def convert_month(month):\n",
    "    month = month.lower()\n",
    "    match month:\n",
    "        case \"jan\":\n",
    "            return \"01\"\n",
    "        case \"feb\":\n",
    "            return \"02\"\n",
    "        case \"mar\":\n",
    "            return \"03\"\n",
    "        case \"apr\":\n",
    "            return \"04\"\n",
    "        case \"may\":\n",
    "            return \"05\"\n",
    "        case \"jun\":\n",
    "            return \"06\"\n",
    "        case \"jul\":\n",
    "            return \"07\"\n",
    "        case \"aug\":\n",
    "            return \"08\"\n",
    "        case \"sep\":\n",
    "            return \"09\"\n",
    "        case \"oct\":\n",
    "            return \"10\"\n",
    "        case \"nov\":\n",
    "            return \"11\"\n",
    "        case \"dec\":\n",
    "            return \"12\"\n",
    "        case _:\n",
    "            return \"-1\"\n",
    "\n",
    "def reformat_date(date):\n",
    "    date = date.replace(\"-\", \"/\")\n",
    "    #mm/dd/yyyy\n",
    "    type1 = r\"(0?[1-9]|1[0,1,2])\\/(0?[1-9]|[12][0-9]|3[01])\\/(19|20)\\d{2}\"\n",
    "    #mm/dd/yy\n",
    "    type2 = r\"(0?[1-9]|1[0,1,2])\\/(0?[1-9]|[12][0-9]|3[01])\\/\\d{2}\"\n",
    "    #yyyymmdd\n",
    "    type3 = r\"(19|20)\\d{2}(0?[1-9]|1[0,1,2])(0[1-9]|[12][0-9]|3[01])\"\n",
    "    #mmm dd yyyy\n",
    "    type4 = r\"([a-zA-Z]{3}) (0?[1-9]|[12][0-9]|3[01]) (19|20)\\d{2}\"\n",
    "    #mmm dd yyyy\n",
    "    type5 = r\"([a-zA-Z]{3}) (0?[1-9]|[12][0-9]|3[01]) (19|20)\\d{2}\"\n",
    "\n",
    "    regex1 = re.compile(type1)\n",
    "    regex2 = re.compile(type2)\n",
    "    regex3 = re.compile(type3)\n",
    "    regex4 = re.compile(type4)\n",
    "    regex5 = re.compile(type5)\n",
    "\n",
    "    if(regex1.match(date)):\n",
    "        date_obj = datetime.datetime.strptime(date, \"%m/%d/%Y\")\n",
    "        return date_obj.strftime(\"%Y%m%d\")\n",
    "    elif(regex2.match(date)):\n",
    "        year_digits = date[len(date) - 2: len(date)]\n",
    "        if(int(year_digits) > 50):\n",
    "            year_digits = \"19\" + year_digits\n",
    "        else:\n",
    "            year_digits = \"20\" + year_digits\n",
    "\n",
    "        date = date[:-2]\n",
    "        date = date + year_digits\n",
    "        date_obj = datetime.datetime.strptime(date, \"%m/%d/%Y\")\n",
    "        return date_obj.strftime(\"%Y%m%d\")\n",
    "    elif(regex3.match(date)):\n",
    "        return date\n",
    "    elif(regex4.match(date)):\n",
    "        month_val = convert_month(date[0:3])\n",
    "        if(month_val == \"-1\"):\n",
    "            return \"-1\"\n",
    "        date_obj = datetime.datetime.strptime(month_val + date[3:], \"%m %d %Y\")\n",
    "        return date_obj.strftime(\"%Y%m%d\")\n",
    "    elif(regex5.match(date)):\n",
    "        \n",
    "        year_digits = date[len(date) - 2: len(date)]\n",
    "        if(int(year_digits) > 50):\n",
    "            year_digits = \"19\" + year_digits\n",
    "        else:\n",
    "            year_digits = \"20\" + year_digits\n",
    "\n",
    "        date = date[:-2]\n",
    "        date = date + year_digits\n",
    "\n",
    "        month_val = convert_month(date[0:3])\n",
    "        if(month_val == \"-1\"):\n",
    "            return \"-1\"\n",
    "        date_obj = datetime.datetime.strptime(month_val + date[3:], \"%m %d %Y\")\n",
    "        return date_obj.strftime(\"%Y%m%d\")\n",
    "    else:\n",
    "        return \"-1\"\n",
    "    \n",
    "result = []\n",
    "\n",
    "# for date in document_data[\"DATE\"]:\n",
    "#     result.append(str(date) + \"--\" + str(reformat_date(str(date))))\n",
    "\n",
    "result = reformat_date(\"2/8/12\")\n",
    "\n",
    "result"
   ]
  },
  {
   "cell_type": "code",
   "execution_count": null,
   "metadata": {},
   "outputs": [],
   "source": [
    "def extract_path_details(path):\n",
    "    end = path.rfind(\"\\\\\")\n",
    "    start = 44\n",
    "\n",
    "    path = path[start:end]\n",
    "    dcr_start = path.find(\"DCR\")\n",
    "    dcr_end = path.rfind(\"_\")\n",
    "    dcr = path[dcr_start: dcr_end]\n",
    "    location_type = path[dcr_end:]\n",
    "    location_type = location_type.replace(\"_\",\"-\")\n",
    "    return (dcr, location_type)\n",
    "\n",
    "path_det = extract_path_details(r\"Documents\\Workflow\\Result\\0-DCR_15524_DS\\mod_simplex\")\n",
    "path_det"
   ]
  }
 ],
 "metadata": {
  "kernelspec": {
   "display_name": "Python 3",
   "language": "python",
   "name": "python3"
  },
  "language_info": {
   "codemirror_mode": {
    "name": "ipython",
    "version": 3
   },
   "file_extension": ".py",
   "mimetype": "text/x-python",
   "name": "python",
   "nbconvert_exporter": "python",
   "pygments_lexer": "ipython3",
   "version": "3.12.3"
  }
 },
 "nbformat": 4,
 "nbformat_minor": 2
}
