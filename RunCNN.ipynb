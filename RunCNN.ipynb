{
 "cells": [
  {
   "cell_type": "code",
   "execution_count": null,
   "metadata": {},
   "outputs": [],
   "source": [
    "import matplotlib.pyplot as plt\n",
    "import numpy as np\n",
    "import PIL\n",
    "from PIL import Image\n",
    "import tensorflow as tf\n",
    "\n",
    "from tensorflow import keras\n",
    "from tensorflow.keras import layers\n",
    "from tensorflow.keras.models import Sequential\n",
    "\n",
    "import os\n",
    "import pymupdf\n",
    "import pandas as pd\n",
    "import shutil\n",
    "\n",
    "import PathStorage"
   ]
  },
  {
   "cell_type": "code",
   "execution_count": null,
   "metadata": {},
   "outputs": [],
   "source": [
    "model = keras.models.load_model(\"DocCNN.keras\")\n",
    "doc_data = pd.read_csv(PathStorage.docdata_sheet, index_col=0)"
   ]
  },
  {
   "cell_type": "code",
   "execution_count": null,
   "metadata": {},
   "outputs": [],
   "source": [
    "def split(array, start, end, left = 0, right = 1):\n",
    "    start_pos = int(array.shape[0] * start)\n",
    "    end_pos = int(array.shape[0] * end)\n",
    "    left_pos = int(array.shape[1] * left)\n",
    "    right_pos = int(array.shape[1] * right)\n",
    "    return array[start_pos:end_pos,left_pos:right_pos,:]"
   ]
  },
  {
   "cell_type": "code",
   "execution_count": null,
   "metadata": {},
   "outputs": [],
   "source": [
    "shutil.rmtree(PathStorage.temp_prediction_png)\n",
    "os.mkdir(PathStorage.temp_prediction_png)\n",
    "\n",
    "for index, row in doc_data.iterrows():\n",
    "    pdf_path = row.loc[\"Path\"]\n",
    "    doc = pymupdf.open(pdf_path)\n",
    "    page = doc.load_page(0)\n",
    "    pix = page.get_pixmap(dpi=20)\n",
    "\n",
    "    image = Image.frombytes(\"RGB\", [pix.width, pix.height], pix.samples)\n",
    "\n",
    "    \n",
    "    img_path = os.path.join(PathStorage.temp_prediction_png, \"{:05d}\".format(index) + \".png\")\n",
    "\n",
    "    image.save(img_path)\n"
   ]
  },
  {
   "cell_type": "code",
   "execution_count": null,
   "metadata": {},
   "outputs": [],
   "source": [
    "data_dir = PathStorage.temp_prediction_png\n",
    "\n",
    "batch_size = 32\n",
    "img_height = 180\n",
    "img_width = 180\n",
    "\n",
    "prediction_set = tf.keras.preprocessing.image_dataset_from_directory(\n",
    "  data_dir,\n",
    "  labels=None,\n",
    "  validation_split=None,\n",
    "  image_size=(img_height, img_width),\n",
    "  batch_size=batch_size,\n",
    "  color_mode='rgb',\n",
    "  shuffle=False)\n",
    "\n",
    "print(prediction_set)"
   ]
  },
  {
   "cell_type": "code",
   "execution_count": null,
   "metadata": {},
   "outputs": [],
   "source": [
    "result = model.predict(prediction_set)\n",
    "\n"
   ]
  },
  {
   "cell_type": "code",
   "execution_count": null,
   "metadata": {},
   "outputs": [],
   "source": [
    "class_names=['Backpage', 'GC', 'Normal']\n",
    "\n",
    "for i in range(0, 100):\n",
    "    score = tf.nn.softmax(result[i])\n",
    "\n",
    "    print(str(i) + \" \" + class_names[np.argmax(score)] + \" \" + str(np.max(score) * 100))"
   ]
  },
  {
   "cell_type": "code",
   "execution_count": null,
   "metadata": {},
   "outputs": [],
   "source": [
    "\n",
    "result_series = pd.Series(np.argmax(result, axis=1))\n",
    "back_mask = result_series.where(result_series == 0)\n",
    "back_mask = back_mask.replace(0, 1)\n",
    "back_mask = back_mask.fillna(0)\n",
    "\n",
    "gc_mask = result_series.mask(result_series == 2, 0)\n",
    "gc_mask = gc_mask.replace(1, 4)\n",
    "\n",
    "doc_data[\"Backpage\"] = back_mask\n",
    "doc_data[\"Action\"] = gc_mask\n",
    "\n",
    "doc_data.head(5)"
   ]
  },
  {
   "cell_type": "code",
   "execution_count": null,
   "metadata": {},
   "outputs": [],
   "source": [
    "num_mask = doc_data[\"Num Pages\"] == 2\n",
    "backpage_mask = doc_data[\"Backpage\"] == 1\n",
    "\n",
    "total_back = num_mask & backpage_mask\n",
    "doc_data.loc[total_back, \"Blank\"] = 1\n",
    "\n",
    "offset_backpage_mask = backpage_mask.shift(-1)\n",
    "offset_backpage_mask.iloc[len(offset_backpage_mask) - 1] = False\n",
    "\n",
    "total_front = num_mask & offset_backpage_mask\n",
    "doc_data.loc[total_front, \"Blank\"] = 1\n",
    "\n",
    "offset_backpage_mask\n"
   ]
  },
  {
   "cell_type": "code",
   "execution_count": null,
   "metadata": {},
   "outputs": [],
   "source": [
    "doc_data.to_csv(PathStorage.docdata_sheet)"
   ]
  },
  {
   "cell_type": "markdown",
   "metadata": {},
   "source": [
    "# Second Level\n",
    "## Form Processing"
   ]
  },
  {
   "cell_type": "code",
   "execution_count": null,
   "metadata": {},
   "outputs": [],
   "source": [
    "doc_data = pd.read_csv(PathStorage.docdata_sheet, index_col=0)\n",
    "form_model = keras.models.load_model(\"DocCNNSecondLevel.keras\")\n",
    "form_model.get_config()\n"
   ]
  },
  {
   "cell_type": "code",
   "execution_count": null,
   "metadata": {},
   "outputs": [],
   "source": [
    "def split(array, start, end, left = 0, right = 1):\n",
    "    start_pos = int(array.shape[0] * start)\n",
    "    end_pos = int(array.shape[0] * end)\n",
    "    left_pos = int(array.shape[1] * left)\n",
    "    right_pos = int(array.shape[1] * right)\n",
    "    return array[start_pos:end_pos,left_pos:right_pos,:]"
   ]
  },
  {
   "cell_type": "code",
   "execution_count": null,
   "metadata": {},
   "outputs": [],
   "source": [
    "form_mask = (doc_data[\"Action\"] != 4) & (doc_data[\"Backpage\"] == 0)\n",
    "form_docs = doc_data[form_mask]\n",
    "form_docs.tail(5)"
   ]
  },
  {
   "cell_type": "code",
   "execution_count": null,
   "metadata": {},
   "outputs": [],
   "source": [
    "shutil.rmtree(PathStorage.temp_prediction_png_second)\n",
    "os.mkdir(PathStorage.temp_prediction_png_second)\n",
    "\n",
    "for index, row in form_docs.iterrows():\n",
    "    pdf_path = row.loc[\"Path\"]\n",
    "    doc = pymupdf.open(pdf_path)\n",
    "    page = doc.load_page(0)\n",
    "    pix = page.get_pixmap(dpi=150)\n",
    "\n",
    "    image = Image.frombytes(\"RGB\", [pix.width, pix.height], pix.samples)\n",
    "    array = np.asarray(image, dtype=np.int32)\n",
    "\n",
    "    sliced = split(array, .15, .4, .05, .9)\n",
    "    im = Image.fromarray((sliced).astype(np.uint8))\n",
    "\n",
    "    img_path = os.path.join(PathStorage.temp_prediction_png_second, \"{:05d}\".format(index) + \".png\")\n",
    "\n",
    "    im.save(img_path)\n",
    "    \n",
    "    if(index  % 25 == 0):\n",
    "        print(index)"
   ]
  },
  {
   "cell_type": "code",
   "execution_count": null,
   "metadata": {},
   "outputs": [],
   "source": [
    "data_dir = PathStorage.temp_prediction_png_second\n",
    "\n",
    "batch_size = 16\n",
    "img_height = 350\n",
    "img_width = 350\n",
    "\n",
    "form_prediction_set = tf.keras.preprocessing.image_dataset_from_directory(\n",
    "  data_dir,\n",
    "  labels=None,\n",
    "  validation_split=None,\n",
    "  image_size=(img_height, img_width),\n",
    "  batch_size=batch_size,\n",
    "  color_mode='rgb',\n",
    "  shuffle=False)\n",
    "\n",
    "print(form_prediction_set)"
   ]
  },
  {
   "cell_type": "code",
   "execution_count": null,
   "metadata": {},
   "outputs": [],
   "source": [
    "form_result = form_model.predict(form_prediction_set)\n",
    "form_result\n"
   ]
  },
  {
   "cell_type": "code",
   "execution_count": null,
   "metadata": {},
   "outputs": [],
   "source": [
    "form_class_names=['Update', 'Renewal', 'Initial']\n",
    "\n",
    "for i in range(0, 100):\n",
    "    score = tf.nn.softmax(form_result[i])\n",
    "\n",
    "    print(str(i) + \" \" + form_class_names[np.argmax(score)] + \" \" + str(np.max(score) * 100))"
   ]
  },
  {
   "cell_type": "code",
   "execution_count": null,
   "metadata": {},
   "outputs": [],
   "source": [
    "form_result_series = pd.Series(np.argmax(form_result, axis=1))\n",
    "form_result_series = form_result_series.replace({0 : 2, 1 : 0, 2 : 1})\n",
    "\n",
    "print(form_docs.iloc[:, 1])\n",
    "print(form_result_series)\n",
    "\n",
    "form_docs.iloc[:, 1] = form_result_series\n",
    "\n",
    "\n",
    "doc_data.loc[form_docs.index, \"Action\"] = form_docs[\"Action\"] \n"
   ]
  },
  {
   "cell_type": "code",
   "execution_count": null,
   "metadata": {},
   "outputs": [],
   "source": [
    "doc_data.to_csv(PathStorage.docdata_sheet)"
   ]
  },
  {
   "cell_type": "markdown",
   "metadata": {},
   "source": [
    "# Third Level\n",
    "## Renewal Processing"
   ]
  },
  {
   "cell_type": "code",
   "execution_count": null,
   "metadata": {},
   "outputs": [],
   "source": [
    "doc_data = pd.read_csv(PathStorage.docdata_sheet, index_col=0)\n",
    "form_model = keras.models.load_model(\"DocCNNThirdLevel.keras\")\n",
    "form_model.get_config()\n"
   ]
  },
  {
   "cell_type": "code",
   "execution_count": null,
   "metadata": {},
   "outputs": [],
   "source": [
    "def split(array, start, end, left = 0, right = 1):\n",
    "    start_pos = int(array.shape[0] * start)\n",
    "    end_pos = int(array.shape[0] * end)\n",
    "    left_pos = int(array.shape[1] * left)\n",
    "    right_pos = int(array.shape[1] * right)\n",
    "    return array[start_pos:end_pos,left_pos:right_pos,:]"
   ]
  },
  {
   "cell_type": "code",
   "execution_count": null,
   "metadata": {},
   "outputs": [],
   "source": [
    "form_mask = (doc_data[\"Action\"] == 0) | (doc_data[\"Action\"] == 2)\n",
    "form_docs = doc_data[form_mask]\n",
    "form_docs.tail(5)"
   ]
  },
  {
   "cell_type": "code",
   "execution_count": null,
   "metadata": {},
   "outputs": [],
   "source": [
    "shutil.rmtree(PathStorage.temp_prediction_png_third)\n",
    "os.mkdir(PathStorage.temp_prediction_png_third)\n",
    "\n",
    "for index, row in form_docs.iterrows():\n",
    "    pdf_path = row.loc[\"Path\"]\n",
    "    doc = pymupdf.open(pdf_path)\n",
    "    page = doc.load_page(0)\n",
    "    pix = page.get_pixmap(dpi=250)\n",
    "\n",
    "    image = Image.frombytes(\"RGB\", [pix.width, pix.height], pix.samples)\n",
    "    array = np.asarray(image, dtype=np.int32)\n",
    "\n",
    "    sliced = split(array, .19, .35, .05, .55)\n",
    "    im = Image.fromarray((sliced).astype(np.uint8))\n",
    "\n",
    "    img_path = os.path.join(PathStorage.temp_prediction_png_third, \"{:05d}\".format(index) + \".png\")\n",
    "\n",
    "    im.save(img_path)\n",
    "    \n",
    "    if(index  % 25 == 0):\n",
    "        print(index)"
   ]
  },
  {
   "cell_type": "code",
   "execution_count": null,
   "metadata": {},
   "outputs": [],
   "source": [
    "data_dir = PathStorage.temp_prediction_png_second\n",
    "\n",
    "batch_size = 16\n",
    "img_height = 350\n",
    "img_width = 350\n",
    "\n",
    "form_prediction_set = tf.keras.preprocessing.image_dataset_from_directory(\n",
    "  data_dir,\n",
    "  labels=None,\n",
    "  validation_split=None,\n",
    "  image_size=(img_height, img_width),\n",
    "  batch_size=batch_size,\n",
    "  color_mode='rgb',\n",
    "  shuffle=False)\n",
    "\n",
    "print(form_prediction_set)"
   ]
  },
  {
   "cell_type": "code",
   "execution_count": null,
   "metadata": {},
   "outputs": [],
   "source": [
    "form_result = form_model.predict(form_prediction_set)\n",
    "form_result\n"
   ]
  },
  {
   "cell_type": "code",
   "execution_count": null,
   "metadata": {},
   "outputs": [],
   "source": [
    "form_class_names=['Update', 'Renewal']\n",
    "\n",
    "for i in range(0, 100):\n",
    "    score = tf.nn.softmax(form_result[i])\n",
    "\n",
    "    print(str(i) + \" \" + form_class_names[np.argmax(score)] + \" \" + str(np.max(score) * 100))"
   ]
  },
  {
   "cell_type": "code",
   "execution_count": null,
   "metadata": {},
   "outputs": [],
   "source": [
    "form_result_series = pd.Series(np.argmax(form_result, axis=1))\n",
    "form_result_series = form_result_series.replace({0 : 2, 1 : 0})\n",
    "\n",
    "print(form_docs.iloc[:, 1])\n",
    "print(form_result_series)\n",
    "\n",
    "form_docs.iloc[:, 1] = form_result_series\n",
    "\n",
    "\n",
    "doc_data.loc[form_docs.index, \"Action\"] = form_docs[\"Action\"] \n"
   ]
  },
  {
   "cell_type": "code",
   "execution_count": null,
   "metadata": {},
   "outputs": [],
   "source": [
    "doc_data.to_csv(PathStorage.docdata_sheet)"
   ]
  }
 ],
 "metadata": {
  "kernelspec": {
   "display_name": "CNNEnv",
   "language": "python",
   "name": "python3"
  },
  "language_info": {
   "codemirror_mode": {
    "name": "ipython",
    "version": 3
   },
   "file_extension": ".py",
   "mimetype": "text/x-python",
   "name": "python",
   "nbconvert_exporter": "python",
   "pygments_lexer": "ipython3",
   "version": "3.12.5"
  }
 },
 "nbformat": 4,
 "nbformat_minor": 2
}
